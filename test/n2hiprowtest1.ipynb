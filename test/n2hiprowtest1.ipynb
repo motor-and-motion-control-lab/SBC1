{
 "cells": [
  {
   "cell_type": "code",
   "execution_count": 12,
   "id": "d9d2274e",
   "metadata": {},
   "outputs": [],
   "source": [
    "import mujoco\n",
    "import mujoco.viewer\n",
    "import time\n",
    "import numpy as np"
   ]
  },
  {
   "cell_type": "code",
   "execution_count": 21,
   "id": "972ce2e5",
   "metadata": {},
   "outputs": [],
   "source": [
    "# from scipy.spatial.transform import Rotation as R\n",
    "\n",
    "m = mujoco.MjModel.from_xml_path(\"/home/mmlab-rl/codes/SBC1/model/n2/mjcf/N2_contactsite1.xml\")\n",
    "d = mujoco.MjData(m)\n",
    "end_time = 10.0\n",
    "with mujoco.viewer.launch_passive(m, d) as viewer:\n",
    "    # viewer.opt.flags[mujoco.mjtVisFlag.mjVIS_CONVEXHULL] = 1\n",
    "\n",
    "    start = time.time()\n",
    "    mujoco.mj_forward(m, d)\n",
    "    while viewer.is_running() and time.time() - start < end_time:\n",
    "        step_start = time.time()\n",
    "\n",
    "        \n",
    "        # mujoco.mj_step(m, d)\n",
    "        # qyorigin += 0.001\n",
    "        # d.qpos[m.joint(\"L_leg_hip_yaw_joint\").id+6] += 0.001\n",
    "        # d.qpos[m.joint(\"L_leg_hip_roll_joint\").id+6] += 0.001\n",
    "        # d.qpos[m.joint(\"L_leg_hip_pitch_joint\").id+6] -= 0.0002\n",
    "        # 使用雅可比矩阵求逆生成速度\n",
    "        target_quat = np.array([ 0.922,  0.388, 0, 0])  # 请替换为你的目标四元数\n",
    "\n",
    "        # 获取base_link到L_leg_hip_pitch_link的当前四元数\n",
    "        body_id = m.body(\"L_leg_hip_pitch_link\").id\n",
    "        base_id = m.body(\"base_link\").id\n",
    "\n",
    "        # mujoco中四元数顺序为[x, y, z, w]\n",
    "        current_quat = d.xquat[body_id]\n",
    "        base_quat = d.xquat[base_id]\n",
    "\n",
    "        # 计算base_link到L_leg_hip_pitch_link的相对四元数\n",
    "        # r_body = R.from_quat(current_quat)\n",
    "        # r_base = R.from_quat(base_quat)\n",
    "        # relative_quat = (r_base.inv() * r_body).as_quat()\n",
    "        \n",
    "        base_quat_conj = np.zeros(4)\n",
    "        relative_quat = np.zeros(4)\n",
    "        mujoco.mju_negQuat(base_quat_conj, base_quat)\n",
    "        mujoco.mju_mulQuat(relative_quat, current_quat, base_quat_conj)\n",
    "        # mujoco.mju_quat2Vel(error_ori, error_quat, 1.0)\n",
    "\n",
    "        # 计算需要的修正四元数\n",
    "        # r_target = R.from_quat(target_quat)\n",
    "        # r_correction = r_target * r_base\n",
    "\n",
    "        # 计算目标角速度\n",
    "        # error_quat = R.from_quat(relative_quat).inv() * r_target\n",
    "        # angular_velocity = 2 * error_quat.as_rotvec()\n",
    "        \n",
    "        relative_quat_conj = np.zeros(4)\n",
    "        error_quat = np.zeros(4)\n",
    "        error_ori = np.zeros(3)\n",
    "        mujoco.mju_negQuat(relative_quat_conj, relative_quat)\n",
    "        mujoco.mju_mulQuat(error_quat, target_quat, relative_quat_conj)\n",
    "        mujoco.mju_quat2Vel(error_ori, error_quat, 1.0)\n",
    "        angular_velocity = 2 * error_ori\n",
    "\n",
    "        # 获取雅可比矩阵\n",
    "        jacobian = np.zeros((3, m.nv))\n",
    "        mujoco.mj_jacBody(m, d, None, jacobian, body_id)\n",
    "\n",
    "        # 计算广义速度\n",
    "        l_leg_yaw_id = m.joint(\"L_leg_hip_yaw_joint\").id+5\n",
    "        generalized_velocity = np.linalg.pinv(jacobian[:,l_leg_yaw_id:l_leg_yaw_id+3]) @ angular_velocity\n",
    "\n",
    "        # 设置速度\n",
    "        d.qvel[l_leg_yaw_id:l_leg_yaw_id+3] = generalized_velocity\n",
    "        # print(d.qvel[l_leg_yaw_id:l_leg_yaw_id+3])\n",
    "        d.qpos[l_leg_yaw_id+1:l_leg_yaw_id+4] += d.qvel[l_leg_yaw_id:l_leg_yaw_id+3] * m.opt.timestep\n",
    "        \n",
    "        mujoco.mj_forward(m, d)\n",
    "\n",
    "        viewer.sync()\n",
    "        time_until_next_step = m.opt.timestep - (time.time() - step_start)\n",
    "        if time_until_next_step > 0:\n",
    "            time.sleep(time_until_next_step)"
   ]
  },
  {
   "cell_type": "code",
   "execution_count": 6,
   "id": "d58b395e",
   "metadata": {},
   "outputs": [
    {
     "name": "stdout",
     "output_type": "stream",
     "text": [
      "5\n"
     ]
    }
   ],
   "source": [
    "print(m.joint(\"L_leg_hip_yaw_joint\").id)"
   ]
  },
  {
   "cell_type": "code",
   "execution_count": 22,
   "id": "94bb2e65",
   "metadata": {},
   "outputs": [
    {
     "name": "stdout",
     "output_type": "stream",
     "text": [
      "current_quat: [ 9.23894515e-01  3.82647259e-01  5.06110101e-06 -1.78938595e-06]\n",
      "base_quat: [1. 0. 0. 0.]\n"
     ]
    }
   ],
   "source": [
    "body_id = m.body(\"L_leg_hip_pitch_link\").id\n",
    "base_id = m.body(\"base_link\").id\n",
    "\n",
    "# mujoco中四元数顺序为[x, y, z, w]\n",
    "current_quat = d.xquat[body_id]\n",
    "base_quat = d.xquat[base_id]\n",
    "print(\"current_quat:\", current_quat)\n",
    "print(\"base_quat:\", base_quat)"
   ]
  },
  {
   "cell_type": "code",
   "execution_count": 20,
   "id": "8325b3f5",
   "metadata": {},
   "outputs": [
    {
     "data": {
      "text/plain": [
       "10"
      ]
     },
     "execution_count": 20,
     "metadata": {},
     "output_type": "execute_result"
    }
   ],
   "source": [
    "l_leg_yaw_id"
   ]
  }
 ],
 "metadata": {
  "kernelspec": {
   "display_name": "mcm",
   "language": "python",
   "name": "python3"
  },
  "language_info": {
   "codemirror_mode": {
    "name": "ipython",
    "version": 3
   },
   "file_extension": ".py",
   "mimetype": "text/x-python",
   "name": "python",
   "nbconvert_exporter": "python",
   "pygments_lexer": "ipython3",
   "version": "3.11.11"
  }
 },
 "nbformat": 4,
 "nbformat_minor": 5
}
