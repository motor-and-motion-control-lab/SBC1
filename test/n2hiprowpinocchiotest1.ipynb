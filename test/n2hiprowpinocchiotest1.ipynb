{
 "cells": [
  {
   "cell_type": "code",
   "execution_count": null,
   "id": "01ab46a4",
   "metadata": {},
   "outputs": [],
   "source": [
    "import pinocchio as pin\n",
    "import numpy as np\n",
    "from qpsolvers.solvers.proxqp_ import proxqp_solve_qp\n",
    "import matplotlib.pylab as plt; plt.ion()"
   ]
  },
  {
   "cell_type": "code",
   "execution_count": null,
   "id": "692a074b",
   "metadata": {},
   "outputs": [],
   "source": [
    "from pinocchio.visualize import MeshcatVisualizer\n",
    " \n",
    "# Load the URDF model.\n",
    "# Conversion with str seems to be necessary when executing this file with ipython\n",
    "\n",
    "# Initialize mujoco\n",
    "with open(os.path.join(os.path.dirname(__file__), \"config.yaml\"), \"r\") as f:\n",
    "    config = yaml.safe_load(f)\n",
    "\n",
    "mjcf_folder = config['mjcf_folder']\n",
    "model_folder = config['model_folder']\n",
    "mesh_folder = config['mesh_folder']\n",
    "\n",
    "modelfilename = os.path.join(mjcf_folder, \"N2_contactsite1.xml\")\n",
    "modelfilename_pin = os.path.join(mjcf_folder, \"N2_contactsite1_pin.xml\")\n",
    "\n",
    "model_path = mjcf_folder\n",
    "# urdf_filename = \"talos_reduced.urdf\"\n",
    "# urdf_model_path = join(join(model_path,\"talos_data/robots\"),urdf_filename)\n",
    "urdf_filename = \"solo.urdf\"\n",
    "urdf_model_path = model_path / \"solo_description/robots\" / urdf_filename\n",
    " \n",
    "model, collision_model, visual_model = pin.buildModelsFromUrdf(\n",
    "    urdf_model_path, mesh_folder, pin.JointModelFreeFlyer()\n",
    ")\n",
    " \n",
    "# Start a new MeshCat server and client.\n",
    "# Note: the server can also be started separately using the \"meshcat-server\" command in\n",
    "# a terminal:\n",
    "# this enables the server to remain active after the current script ends.\n",
    "#\n",
    "# Option open=True pens the visualizer.\n",
    "# Note: the visualizer can also be opened seperately by visiting the provided URL.\n",
    "try:\n",
    "    viz = MeshcatVisualizer(model, collision_model, visual_model)\n",
    "    viz.initViewer(open=True)\n",
    "except ImportError as err:\n",
    "    print(\n",
    "        \"Error while initializing the viewer. \"\n",
    "        \"It seems you should install Python meshcat\"\n",
    "    )\n",
    "    print(err)\n",
    "    sys.exit(0)\n",
    " \n",
    "# Load the robot in the viewer.\n",
    "viz.loadViewerModel()\n",
    " \n",
    "# Display a robot configuration.\n",
    "q0 = pin.neutral(model)\n",
    "viz.display(q0)\n",
    "viz.displayVisuals(True)"
   ]
  }
 ],
 "metadata": {
  "kernelspec": {
   "display_name": "mcm",
   "language": "python",
   "name": "python3"
  },
  "language_info": {
   "name": "python",
   "version": "3.11.11"
  }
 },
 "nbformat": 4,
 "nbformat_minor": 5
}
